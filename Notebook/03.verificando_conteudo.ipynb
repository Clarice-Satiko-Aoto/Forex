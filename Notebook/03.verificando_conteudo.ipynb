{
 "cells": [
  {
   "cell_type": "markdown",
   "metadata": {},
   "source": [
    "# Verificando o conteúdo do dataset\n",
    "\n",
    "> ação:\n",
    "> 1. Verificar necessidade de limpeza dos dados (texo).  a data precisaremos separar o horario\n",
    "> 2. Verificar qual coluna do texto vamos utilizar\n",
    "> 3. Estudar a polaridade das palavras\n",
    "> 4. Verificar palavras mais utilizadas\n",
    "> 5. Buscar dados econômicos e o price action do EURUSD\n",
    "> 6. Cenas dos próximos insights"
   ]
  },
  {
   "cell_type": "markdown",
   "metadata": {},
   "source": [
    "## Começou!"
   ]
  },
  {
   "cell_type": "code",
   "execution_count": 1,
   "metadata": {},
   "outputs": [],
   "source": [
    "#import das bibliotecas\n",
    "import pandas as pd\n",
    "import numpy as np\n",
    "import matplotlib.pyplot as plt"
   ]
  },
  {
   "cell_type": "code",
   "execution_count": 29,
   "metadata": {},
   "outputs": [
    {
     "data": {
      "text/html": [
       "<div>\n",
       "<style scoped>\n",
       "    .dataframe tbody tr th:only-of-type {\n",
       "        vertical-align: middle;\n",
       "    }\n",
       "\n",
       "    .dataframe tbody tr th {\n",
       "        vertical-align: top;\n",
       "    }\n",
       "\n",
       "    .dataframe thead th {\n",
       "        text-align: right;\n",
       "    }\n",
       "</style>\n",
       "<table border=\"1\" class=\"dataframe\">\n",
       "  <thead>\n",
       "    <tr style=\"text-align: right;\">\n",
       "      <th></th>\n",
       "      <th>title</th>\n",
       "      <th>published_at</th>\n",
       "      <th>publisher</th>\n",
       "      <th>short_description</th>\n",
       "      <th>description</th>\n",
       "    </tr>\n",
       "  </thead>\n",
       "  <tbody>\n",
       "    <tr>\n",
       "      <th>0</th>\n",
       "      <td>Santoli’s Wednesday market notes: Could Septem...</td>\n",
       "      <td>2021-09-29 17:09:39+00:00</td>\n",
       "      <td>CNBC</td>\n",
       "      <td>This is the daily notebook of Mike Santoli, CN...</td>\n",
       "      <td>This is the daily notebook of Mike Santoli, CN...</td>\n",
       "    </tr>\n",
       "    <tr>\n",
       "      <th>1</th>\n",
       "      <td>My take on the early Brexit winners and losers</td>\n",
       "      <td>2016-06-24 13:50:48-04:00</td>\n",
       "      <td>CNBC</td>\n",
       "      <td>This commentary originally ran on Facebook. Bo...</td>\n",
       "      <td>NaN</td>\n",
       "    </tr>\n",
       "    <tr>\n",
       "      <th>2</th>\n",
       "      <td>Europe&amp;#039;s recovery depends on Renzi&amp;#039;s...</td>\n",
       "      <td>2014-03-25 13:29:45-04:00</td>\n",
       "      <td>CNBC</td>\n",
       "      <td>In spring, ambitious reforms began in Italy. U...</td>\n",
       "      <td>NaN</td>\n",
       "    </tr>\n",
       "  </tbody>\n",
       "</table>\n",
       "</div>"
      ],
      "text/plain": [
       "                                               title  \\\n",
       "0  Santoli’s Wednesday market notes: Could Septem...   \n",
       "1     My take on the early Brexit winners and losers   \n",
       "2  Europe&#039;s recovery depends on Renzi&#039;s...   \n",
       "\n",
       "                published_at publisher  \\\n",
       "0  2021-09-29 17:09:39+00:00      CNBC   \n",
       "1  2016-06-24 13:50:48-04:00      CNBC   \n",
       "2  2014-03-25 13:29:45-04:00      CNBC   \n",
       "\n",
       "                                   short_description  \\\n",
       "0  This is the daily notebook of Mike Santoli, CN...   \n",
       "1  This commentary originally ran on Facebook. Bo...   \n",
       "2  In spring, ambitious reforms began in Italy. U...   \n",
       "\n",
       "                                         description  \n",
       "0  This is the daily notebook of Mike Santoli, CN...  \n",
       "1                                                NaN  \n",
       "2                                                NaN  "
      ]
     },
     "execution_count": 29,
     "metadata": {},
     "output_type": "execute_result"
    }
   ],
   "source": [
    "df = pd.read_csv('C:\\Python\\Mentoria\\Forex\\Forex\\Dataset\\compilado\\cnbc_dataset.csv')\n",
    "df.head(3)"
   ]
  },
  {
   "cell_type": "markdown",
   "metadata": {},
   "source": [
    "## Cuidando da coluna published_at"
   ]
  },
  {
   "cell_type": "code",
   "execution_count": 30,
   "metadata": {},
   "outputs": [
    {
     "data": {
      "text/html": [
       "<div>\n",
       "<style scoped>\n",
       "    .dataframe tbody tr th:only-of-type {\n",
       "        vertical-align: middle;\n",
       "    }\n",
       "\n",
       "    .dataframe tbody tr th {\n",
       "        vertical-align: top;\n",
       "    }\n",
       "\n",
       "    .dataframe thead th {\n",
       "        text-align: right;\n",
       "    }\n",
       "</style>\n",
       "<table border=\"1\" class=\"dataframe\">\n",
       "  <thead>\n",
       "    <tr style=\"text-align: right;\">\n",
       "      <th></th>\n",
       "      <th>title</th>\n",
       "      <th>published_at</th>\n",
       "      <th>publisher</th>\n",
       "      <th>short_description</th>\n",
       "      <th>description</th>\n",
       "    </tr>\n",
       "  </thead>\n",
       "  <tbody>\n",
       "    <tr>\n",
       "      <th>0</th>\n",
       "      <td>Santoli’s Wednesday market notes: Could Septem...</td>\n",
       "      <td>2021-09-29 17:09:39</td>\n",
       "      <td>CNBC</td>\n",
       "      <td>This is the daily notebook of Mike Santoli, CN...</td>\n",
       "      <td>This is the daily notebook of Mike Santoli, CN...</td>\n",
       "    </tr>\n",
       "    <tr>\n",
       "      <th>1</th>\n",
       "      <td>My take on the early Brexit winners and losers</td>\n",
       "      <td>2016-06-24 13:50:48</td>\n",
       "      <td>CNBC</td>\n",
       "      <td>This commentary originally ran on Facebook. Bo...</td>\n",
       "      <td>NaN</td>\n",
       "    </tr>\n",
       "    <tr>\n",
       "      <th>2</th>\n",
       "      <td>Europe&amp;#039;s recovery depends on Renzi&amp;#039;s...</td>\n",
       "      <td>2014-03-25 13:29:45</td>\n",
       "      <td>CNBC</td>\n",
       "      <td>In spring, ambitious reforms began in Italy. U...</td>\n",
       "      <td>NaN</td>\n",
       "    </tr>\n",
       "  </tbody>\n",
       "</table>\n",
       "</div>"
      ],
      "text/plain": [
       "                                               title         published_at  \\\n",
       "0  Santoli’s Wednesday market notes: Could Septem...  2021-09-29 17:09:39   \n",
       "1     My take on the early Brexit winners and losers  2016-06-24 13:50:48   \n",
       "2  Europe&#039;s recovery depends on Renzi&#039;s...  2014-03-25 13:29:45   \n",
       "\n",
       "  publisher                                  short_description  \\\n",
       "0      CNBC  This is the daily notebook of Mike Santoli, CN...   \n",
       "1      CNBC  This commentary originally ran on Facebook. Bo...   \n",
       "2      CNBC  In spring, ambitious reforms began in Italy. U...   \n",
       "\n",
       "                                         description  \n",
       "0  This is the daily notebook of Mike Santoli, CN...  \n",
       "1                                                NaN  \n",
       "2                                                NaN  "
      ]
     },
     "execution_count": 30,
     "metadata": {},
     "output_type": "execute_result"
    }
   ],
   "source": [
    "#tirando \"+00:00\" da coluna e transformando em datetime do pandas\n",
    "df['published_at'] = [x.replace('+00:00', \"\") for x in df['published_at']]\n",
    "df['published_at'] = [x.replace('-04:00', \"\") for x in df['published_at']]\n",
    "df['published_at'] = pd.to_datetime(df['published_at'])\n",
    "\n",
    "df.head(3)"
   ]
  },
  {
   "cell_type": "code",
   "execution_count": 37,
   "metadata": {},
   "outputs": [
    {
     "data": {
      "text/html": [
       "<div>\n",
       "<style scoped>\n",
       "    .dataframe tbody tr th:only-of-type {\n",
       "        vertical-align: middle;\n",
       "    }\n",
       "\n",
       "    .dataframe tbody tr th {\n",
       "        vertical-align: top;\n",
       "    }\n",
       "\n",
       "    .dataframe thead th {\n",
       "        text-align: right;\n",
       "    }\n",
       "</style>\n",
       "<table border=\"1\" class=\"dataframe\">\n",
       "  <thead>\n",
       "    <tr style=\"text-align: right;\">\n",
       "      <th></th>\n",
       "      <th>title</th>\n",
       "      <th>published_at</th>\n",
       "      <th>publisher</th>\n",
       "      <th>short_description</th>\n",
       "      <th>description</th>\n",
       "      <th>new_date</th>\n",
       "      <th>new_time</th>\n",
       "    </tr>\n",
       "  </thead>\n",
       "  <tbody>\n",
       "    <tr>\n",
       "      <th>0</th>\n",
       "      <td>Santoli’s Wednesday market notes: Could Septem...</td>\n",
       "      <td>2021-09-29 17:09:39</td>\n",
       "      <td>CNBC</td>\n",
       "      <td>This is the daily notebook of Mike Santoli, CN...</td>\n",
       "      <td>This is the daily notebook of Mike Santoli, CN...</td>\n",
       "      <td>2021-09-29</td>\n",
       "      <td>17:09:39</td>\n",
       "    </tr>\n",
       "    <tr>\n",
       "      <th>1</th>\n",
       "      <td>My take on the early Brexit winners and losers</td>\n",
       "      <td>2016-06-24 13:50:48</td>\n",
       "      <td>CNBC</td>\n",
       "      <td>This commentary originally ran on Facebook. Bo...</td>\n",
       "      <td>NaN</td>\n",
       "      <td>2016-06-24</td>\n",
       "      <td>13:50:48</td>\n",
       "    </tr>\n",
       "    <tr>\n",
       "      <th>2</th>\n",
       "      <td>Europe&amp;#039;s recovery depends on Renzi&amp;#039;s...</td>\n",
       "      <td>2014-03-25 13:29:45</td>\n",
       "      <td>CNBC</td>\n",
       "      <td>In spring, ambitious reforms began in Italy. U...</td>\n",
       "      <td>NaN</td>\n",
       "      <td>2014-03-25</td>\n",
       "      <td>13:29:45</td>\n",
       "    </tr>\n",
       "  </tbody>\n",
       "</table>\n",
       "</div>"
      ],
      "text/plain": [
       "                                               title         published_at  \\\n",
       "0  Santoli’s Wednesday market notes: Could Septem...  2021-09-29 17:09:39   \n",
       "1     My take on the early Brexit winners and losers  2016-06-24 13:50:48   \n",
       "2  Europe&#039;s recovery depends on Renzi&#039;s...  2014-03-25 13:29:45   \n",
       "\n",
       "  publisher                                  short_description  \\\n",
       "0      CNBC  This is the daily notebook of Mike Santoli, CN...   \n",
       "1      CNBC  This commentary originally ran on Facebook. Bo...   \n",
       "2      CNBC  In spring, ambitious reforms began in Italy. U...   \n",
       "\n",
       "                                         description    new_date  new_time  \n",
       "0  This is the daily notebook of Mike Santoli, CN...  2021-09-29  17:09:39  \n",
       "1                                                NaN  2016-06-24  13:50:48  \n",
       "2                                                NaN  2014-03-25  13:29:45  "
      ]
     },
     "execution_count": 37,
     "metadata": {},
     "output_type": "execute_result"
    }
   ],
   "source": [
    "df['new_date'] = [d.date() for d in df['published_at']]\n",
    "df['new_time'] = [d.time() for d in df['published_at']]\n",
    "df.head(3)"
   ]
  },
  {
   "cell_type": "code",
   "execution_count": 51,
   "metadata": {},
   "outputs": [],
   "source": [
    "df['new_date'] = pd.to_datetime(df['new_date'])\n",
    "\n",
    "#df['new_time'] = pd.to_datetime(df['new_time'])"
   ]
  },
  {
   "cell_type": "code",
   "execution_count": 54,
   "metadata": {},
   "outputs": [
    {
     "data": {
      "text/plain": [
       "(Timestamp('2006-12-04 00:00:00'), Timestamp('2021-10-18 00:00:00'))"
      ]
     },
     "execution_count": 54,
     "metadata": {},
     "output_type": "execute_result"
    }
   ],
   "source": [
    "df['new_date'].min(), df['new_date'].max()"
   ]
  },
  {
   "cell_type": "markdown",
   "metadata": {},
   "source": [
    "## Verificando a polaridade da coluna 'title' utilizando o textblob"
   ]
  },
  {
   "cell_type": "markdown",
   "metadata": {},
   "source": [
    "TextBlob aims to provide access to common text-processing operations through a familiar interface. You can treat TextBlob objects as if they were Python strings that learned how to do Natural Language Processing.\n",
    "\n",
    "https://textblob.readthedocs.io/en/dev/quickstart.html"
   ]
  },
  {
   "cell_type": "markdown",
   "metadata": {},
   "source": [
    "### Sentiment Analysis\n",
    "The sentiment property returns a namedtuple of the form Sentiment(polarity, subjectivity). \n",
    "\n",
    "The polarity score is a float within the range [-1.0, 1.0]. \n",
    "\n",
    "The subjectivity is a float within the range [0.0, 1.0] where 0.0 is very objective and 1.0 is very subjective.\n",
    "\n",
    ">>> testimonial = TextBlob(\"Textblob is amazingly simple to use. What great fun!\")\n",
    "\n",
    ">>> testimonial.sentiment\n",
    "\n",
    "Sentiment(polarity=0.39166666666666666, subjectivity=0.4357142857142857)\n",
    "\n",
    ">>> testimonial.sentiment.polarity\n",
    "\n",
    "0.39166666666666666"
   ]
  },
  {
   "cell_type": "code",
   "execution_count": 42,
   "metadata": {},
   "outputs": [
    {
     "name": "stdout",
     "output_type": "stream",
     "text": [
      "Requirement already satisfied: textblob in c:\\users\\usuario\\anaconda3\\lib\\site-packages (0.17.1)\n",
      "Requirement already satisfied: nltk>=3.1 in c:\\users\\usuario\\anaconda3\\lib\\site-packages (from textblob) (3.7)\n",
      "Requirement already satisfied: regex>=2021.8.3 in c:\\users\\usuario\\anaconda3\\lib\\site-packages (from nltk>=3.1->textblob) (2022.3.15)\n",
      "Requirement already satisfied: click in c:\\users\\usuario\\anaconda3\\lib\\site-packages (from nltk>=3.1->textblob) (8.0.4)\n",
      "Requirement already satisfied: joblib in c:\\users\\usuario\\anaconda3\\lib\\site-packages (from nltk>=3.1->textblob) (1.1.0)\n",
      "Requirement already satisfied: tqdm in c:\\users\\usuario\\anaconda3\\lib\\site-packages (from nltk>=3.1->textblob) (4.64.0)\n",
      "Requirement already satisfied: colorama in c:\\users\\usuario\\anaconda3\\lib\\site-packages (from click->nltk>=3.1->textblob) (0.4.4)\n",
      "Requirement already satisfied: pip in c:\\users\\usuario\\anaconda3\\lib\\site-packages (22.2.1)\n"
     ]
    }
   ],
   "source": [
    "#!pip install textblob\n"
   ]
  },
  {
   "cell_type": "code",
   "execution_count": null,
   "metadata": {},
   "outputs": [],
   "source": [
    "#!pip install --upgrade pip"
   ]
  },
  {
   "cell_type": "code",
   "execution_count": 43,
   "metadata": {},
   "outputs": [],
   "source": [
    "from textblob import TextBlob"
   ]
  },
  {
   "cell_type": "code",
   "execution_count": 44,
   "metadata": {},
   "outputs": [],
   "source": [
    "df['sentiment'] = df['title'].apply(lambda x: TextBlob(x).sentiment_assessments)"
   ]
  },
  {
   "cell_type": "code",
   "execution_count": 45,
   "metadata": {},
   "outputs": [
    {
     "data": {
      "text/html": [
       "<div>\n",
       "<style scoped>\n",
       "    .dataframe tbody tr th:only-of-type {\n",
       "        vertical-align: middle;\n",
       "    }\n",
       "\n",
       "    .dataframe tbody tr th {\n",
       "        vertical-align: top;\n",
       "    }\n",
       "\n",
       "    .dataframe thead th {\n",
       "        text-align: right;\n",
       "    }\n",
       "</style>\n",
       "<table border=\"1\" class=\"dataframe\">\n",
       "  <thead>\n",
       "    <tr style=\"text-align: right;\">\n",
       "      <th></th>\n",
       "      <th>title</th>\n",
       "      <th>published_at</th>\n",
       "      <th>publisher</th>\n",
       "      <th>short_description</th>\n",
       "      <th>description</th>\n",
       "      <th>new_date</th>\n",
       "      <th>new_time</th>\n",
       "      <th>sentiment</th>\n",
       "    </tr>\n",
       "  </thead>\n",
       "  <tbody>\n",
       "    <tr>\n",
       "      <th>0</th>\n",
       "      <td>Santoli’s Wednesday market notes: Could Septem...</td>\n",
       "      <td>2021-09-29 17:09:39</td>\n",
       "      <td>CNBC</td>\n",
       "      <td>This is the daily notebook of Mike Santoli, CN...</td>\n",
       "      <td>This is the daily notebook of Mike Santoli, CN...</td>\n",
       "      <td>2021-09-29</td>\n",
       "      <td>17:09:39</td>\n",
       "      <td>(0.0, 0.0, [(['fourth'], 0.0, 0.0, None)])</td>\n",
       "    </tr>\n",
       "    <tr>\n",
       "      <th>1</th>\n",
       "      <td>My take on the early Brexit winners and losers</td>\n",
       "      <td>2016-06-24 13:50:48</td>\n",
       "      <td>CNBC</td>\n",
       "      <td>This commentary originally ran on Facebook. Bo...</td>\n",
       "      <td>NaN</td>\n",
       "      <td>2016-06-24</td>\n",
       "      <td>13:50:48</td>\n",
       "      <td>(-0.05, 0.25, [(['early'], 0.1, 0.3, None), ([...</td>\n",
       "    </tr>\n",
       "    <tr>\n",
       "      <th>2</th>\n",
       "      <td>Europe&amp;#039;s recovery depends on Renzi&amp;#039;s...</td>\n",
       "      <td>2014-03-25 13:29:45</td>\n",
       "      <td>CNBC</td>\n",
       "      <td>In spring, ambitious reforms began in Italy. U...</td>\n",
       "      <td>NaN</td>\n",
       "      <td>2014-03-25</td>\n",
       "      <td>13:29:45</td>\n",
       "      <td>(0.0, 0.0, [])</td>\n",
       "    </tr>\n",
       "    <tr>\n",
       "      <th>3</th>\n",
       "      <td>US Moves Closer to Becoming A Major Shareholde...</td>\n",
       "      <td>2009-04-22 19:49:03</td>\n",
       "      <td>CNBC</td>\n",
       "      <td>The US government is increasingly likely to co...</td>\n",
       "      <td>The US government is increasingly likely to co...</td>\n",
       "      <td>2009-04-22</td>\n",
       "      <td>19:49:03</td>\n",
       "      <td>(0.25625, 0.675, [(['becoming'], 0.45, 0.85000...</td>\n",
       "    </tr>\n",
       "    <tr>\n",
       "      <th>4</th>\n",
       "      <td>Trump: 'Mission accomplished' on 'perfectly ex...</td>\n",
       "      <td>2018-04-14 14:59:04</td>\n",
       "      <td>CNBC</td>\n",
       "      <td>NaN</td>\n",
       "      <td>President Donald Trump hailed the U.S.-led int...</td>\n",
       "      <td>2018-04-14</td>\n",
       "      <td>14:59:04</td>\n",
       "      <td>(0.6, 0.75, [(['accomplished'], 0.2, 0.5, None...</td>\n",
       "    </tr>\n",
       "  </tbody>\n",
       "</table>\n",
       "</div>"
      ],
      "text/plain": [
       "                                               title         published_at  \\\n",
       "0  Santoli’s Wednesday market notes: Could Septem...  2021-09-29 17:09:39   \n",
       "1     My take on the early Brexit winners and losers  2016-06-24 13:50:48   \n",
       "2  Europe&#039;s recovery depends on Renzi&#039;s...  2014-03-25 13:29:45   \n",
       "3  US Moves Closer to Becoming A Major Shareholde...  2009-04-22 19:49:03   \n",
       "4  Trump: 'Mission accomplished' on 'perfectly ex...  2018-04-14 14:59:04   \n",
       "\n",
       "  publisher                                  short_description  \\\n",
       "0      CNBC  This is the daily notebook of Mike Santoli, CN...   \n",
       "1      CNBC  This commentary originally ran on Facebook. Bo...   \n",
       "2      CNBC  In spring, ambitious reforms began in Italy. U...   \n",
       "3      CNBC  The US government is increasingly likely to co...   \n",
       "4      CNBC                                                NaN   \n",
       "\n",
       "                                         description   new_date  new_time  \\\n",
       "0  This is the daily notebook of Mike Santoli, CN... 2021-09-29  17:09:39   \n",
       "1                                                NaN 2016-06-24  13:50:48   \n",
       "2                                                NaN 2014-03-25  13:29:45   \n",
       "3  The US government is increasingly likely to co... 2009-04-22  19:49:03   \n",
       "4  President Donald Trump hailed the U.S.-led int... 2018-04-14  14:59:04   \n",
       "\n",
       "                                           sentiment  \n",
       "0         (0.0, 0.0, [(['fourth'], 0.0, 0.0, None)])  \n",
       "1  (-0.05, 0.25, [(['early'], 0.1, 0.3, None), ([...  \n",
       "2                                     (0.0, 0.0, [])  \n",
       "3  (0.25625, 0.675, [(['becoming'], 0.45, 0.85000...  \n",
       "4  (0.6, 0.75, [(['accomplished'], 0.2, 0.5, None...  "
      ]
     },
     "execution_count": 45,
     "metadata": {},
     "output_type": "execute_result"
    }
   ],
   "source": [
    "df.head()"
   ]
  },
  {
   "cell_type": "code",
   "execution_count": 46,
   "metadata": {},
   "outputs": [],
   "source": [
    "#podemos fazer assim tb: (obrigada, StackOverFlow!)\n",
    "\"\"\"def sentiment_calc(text):\n",
    "    try:\n",
    "        return TextBlob(text).sentiment_assessments\n",
    "    except:\n",
    "        return None\n",
    "\n",
    "df['sentiment'] = df['title'].apply(sentiment_calc)\n",
    "\"\"\"\n"
   ]
  },
  {
   "cell_type": "code",
   "execution_count": 47,
   "metadata": {},
   "outputs": [
    {
     "data": {
      "text/html": [
       "<div>\n",
       "<style scoped>\n",
       "    .dataframe tbody tr th:only-of-type {\n",
       "        vertical-align: middle;\n",
       "    }\n",
       "\n",
       "    .dataframe tbody tr th {\n",
       "        vertical-align: top;\n",
       "    }\n",
       "\n",
       "    .dataframe thead th {\n",
       "        text-align: right;\n",
       "    }\n",
       "</style>\n",
       "<table border=\"1\" class=\"dataframe\">\n",
       "  <thead>\n",
       "    <tr style=\"text-align: right;\">\n",
       "      <th></th>\n",
       "      <th>title</th>\n",
       "      <th>published_at</th>\n",
       "      <th>publisher</th>\n",
       "      <th>short_description</th>\n",
       "      <th>description</th>\n",
       "      <th>new_date</th>\n",
       "      <th>new_time</th>\n",
       "      <th>sentiment</th>\n",
       "    </tr>\n",
       "  </thead>\n",
       "  <tbody>\n",
       "    <tr>\n",
       "      <th>0</th>\n",
       "      <td>Santoli’s Wednesday market notes: Could Septem...</td>\n",
       "      <td>2021-09-29 17:09:39</td>\n",
       "      <td>CNBC</td>\n",
       "      <td>This is the daily notebook of Mike Santoli, CN...</td>\n",
       "      <td>This is the daily notebook of Mike Santoli, CN...</td>\n",
       "      <td>2021-09-29</td>\n",
       "      <td>17:09:39</td>\n",
       "      <td>(0.0, 0.0, [(['fourth'], 0.0, 0.0, None)])</td>\n",
       "    </tr>\n",
       "    <tr>\n",
       "      <th>1</th>\n",
       "      <td>My take on the early Brexit winners and losers</td>\n",
       "      <td>2016-06-24 13:50:48</td>\n",
       "      <td>CNBC</td>\n",
       "      <td>This commentary originally ran on Facebook. Bo...</td>\n",
       "      <td>NaN</td>\n",
       "      <td>2016-06-24</td>\n",
       "      <td>13:50:48</td>\n",
       "      <td>(-0.05, 0.25, [(['early'], 0.1, 0.3, None), ([...</td>\n",
       "    </tr>\n",
       "  </tbody>\n",
       "</table>\n",
       "</div>"
      ],
      "text/plain": [
       "                                               title         published_at  \\\n",
       "0  Santoli’s Wednesday market notes: Could Septem...  2021-09-29 17:09:39   \n",
       "1     My take on the early Brexit winners and losers  2016-06-24 13:50:48   \n",
       "\n",
       "  publisher                                  short_description  \\\n",
       "0      CNBC  This is the daily notebook of Mike Santoli, CN...   \n",
       "1      CNBC  This commentary originally ran on Facebook. Bo...   \n",
       "\n",
       "                                         description   new_date  new_time  \\\n",
       "0  This is the daily notebook of Mike Santoli, CN... 2021-09-29  17:09:39   \n",
       "1                                                NaN 2016-06-24  13:50:48   \n",
       "\n",
       "                                           sentiment  \n",
       "0         (0.0, 0.0, [(['fourth'], 0.0, 0.0, None)])  \n",
       "1  (-0.05, 0.25, [(['early'], 0.1, 0.3, None), ([...  "
      ]
     },
     "execution_count": 47,
     "metadata": {},
     "output_type": "execute_result"
    }
   ],
   "source": [
    "df.head(2)"
   ]
  },
  {
   "cell_type": "code",
   "execution_count": null,
   "metadata": {},
   "outputs": [],
   "source": []
  }
 ],
 "metadata": {
  "kernelspec": {
   "display_name": "Python 3.9.12 ('base')",
   "language": "python",
   "name": "python3"
  },
  "language_info": {
   "codemirror_mode": {
    "name": "ipython",
    "version": 3
   },
   "file_extension": ".py",
   "mimetype": "text/x-python",
   "name": "python",
   "nbconvert_exporter": "python",
   "pygments_lexer": "ipython3",
   "version": "3.9.12"
  },
  "orig_nbformat": 4,
  "vscode": {
   "interpreter": {
    "hash": "e06ff7da33dc9620448857a90ad8b5f428f0d573d205a934d2841c8aee45ea32"
   }
  }
 },
 "nbformat": 4,
 "nbformat_minor": 2
}
