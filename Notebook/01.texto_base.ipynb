{
 "cells": [
  {
   "cell_type": "markdown",
   "metadata": {},
   "source": [
    "# Twitter \n",
    "\n"
   ]
  },
  {
   "cell_type": "markdown",
   "metadata": {},
   "source": [
    "“Em economia, é fácil explicar o passado. Mais fácil ainda é predizer o futuro. Difícil é entender o presente.”\n",
    "Joelmir Betting"
   ]
  },
  {
   "cell_type": "markdown",
   "metadata": {},
   "source": [
    "## Análise fundamentalista"
   ]
  },
  {
   "cell_type": "markdown",
   "metadata": {},
   "source": [
    "A análise fundamentalista utiliza, primariamente, modelos matemáticos que usam uma variedade de fatores como: taxa de juros, balanços contábeis, risco-país, projeções macro e microeconômicas para determinar fluxo de caixa futuro e trazê-lo ao valor presente a fim de projetar o preço-alvo de determinada ação.\n",
    "\n",
    "O problema de utilizar somente esse tipo de análise está no fato de que não se está levando em conta outros traders como variáveis. Esse aspecto é relevante porque são as expectativas das pessoas para o futuro que fazem os preços subirem e não os modelos ou as notícias. O fato de o modelo fazer projeções lógicas e razoáveis baseadas nas variáveis relevantes não é de muito valor para os traders que são responsáveis pela maior parte do volume operado no mercado, pois, ou eles não estão cientes das projeções do modelo, ou não acreditam nelas. Além disso, a maior parte da atividade gerada nas negociações se deve à resposta a fatores emocionais, estes totalmente fora dos parâmetros de um modelo ou mesmo racionais.\n",
    "\n",
    "A análise fundamentalista cria, portanto, o chamado gap de realidade entre “o que deveria estar” e “o que está” e, essa avaliação dos preços futuros pode, inclusive, estar correta. O problema é que o movimento de preços pode ser tão volátil que se torna extremamente difícil manter-se na operação para realizar o objetivo. Dessa forma, assim como em análise técnica, em que utilizo vários indicadores, padrões e técnicas para se confirmarem, na análise fundamentalista utilizo também diferentes formas de análise em conjunto, incluindo análises técnica, quantitativa e de risco.\n",
    "\n",
    "Lemos, Flávio\n",
    "Análise técnica clássica : com as mais recentes estratégias da Expo Trader\n",
    "Brasil / Flávio Lemos, Celso Cardoso. – São Paulo : Saraiva, 2010."
   ]
  },
  {
   "cell_type": "markdown",
   "metadata": {},
   "source": [
    "## Análise técnica"
   ]
  },
  {
   "cell_type": "markdown",
   "metadata": {},
   "source": [
    "Análise técnica é o estudo da ação do mercado, primariamente\n",
    "por meio de uso de gráficos, com o objetivo de prever as\n",
    "tendências futuras de preços.\n",
    "\n",
    "A análise técnica é como uma regra: SE isso acontecer, ENTÃO faça\n",
    "aquilo, SENÃO aquilo outro.\n",
    "\n",
    "Outra descrição que pode ser dada é de que a análise técnica é a\n",
    "interpretação da ação do mercado para antecipar os movimentos\n",
    "futuros dos preços."
   ]
  },
  {
   "cell_type": "markdown",
   "metadata": {},
   "source": [
    "## As pedras fundamentais"
   ]
  },
  {
   "cell_type": "markdown",
   "metadata": {},
   "source": [
    "três premissas fundamentais que funcionam como pilares\n",
    "sobre os quais a análise técnica está sustentada.\n",
    "\n",
    "i) A ação do mercado desconta tudo. O analista técnico acredita\n",
    "que tudo se encontra na formação do “preço”. As diversas\n",
    "variáveis fundamentais, políticas, psicológicas ou de qualquer\n",
    "outra ordem estão, na realidade, refletidas nos preços do\n",
    "mercado. Consequentemente, o estudo da ação dos preços é tudo\n",
    "o que é necessário.\n",
    "\n",
    "ii) Os preços se movem em tendência. O propósito de representar a\n",
    "ação dos preços em um gráfico é identificar tendências futuras de\n",
    "preços nos estágios iniciais de desenvolvimento e tentar tirar\n",
    "proveito dessas tendências para a obtenção de lucro. Dessa\n",
    "forma, uma tendência em vigência tem uma probabilidade maior\n",
    "de permanecer em vigência do que de reverter. Essa premissa é\n",
    "uma adaptação da primeira Lei de Newton.\n",
    "\n",
    "iii) A história se repete – os preços também refletem variáveis\n",
    "psicológicas inatas ao ser humano. Se formos estudar um pouco\n",
    "de Psicologia Social, veremos que os padrões comportamentais\n",
    "do ser humano tendem a se modificar de forma muito sutil, ou\n",
    "mesmo a permanecerem estáticos no tempo. Como esses padrões\n",
    "funcionaram bem no passado, é considerado que deverão\n",
    "continuar dando bons resultados no futuro."
   ]
  },
  {
   "cell_type": "markdown",
   "metadata": {},
   "source": [
    "## TEORIAS SOBRE O MOVIMENTO DOS PREÇOS NO MERCADO"
   ]
  },
  {
   "cell_type": "markdown",
   "metadata": {},
   "source": []
  }
 ],
 "metadata": {
  "kernelspec": {
   "display_name": "Python 3.9.12 ('base')",
   "language": "python",
   "name": "python3"
  },
  "language_info": {
   "name": "python",
   "version": "3.9.12"
  },
  "orig_nbformat": 4,
  "vscode": {
   "interpreter": {
    "hash": "e06ff7da33dc9620448857a90ad8b5f428f0d573d205a934d2841c8aee45ea32"
   }
  }
 },
 "nbformat": 4,
 "nbformat_minor": 2
}
