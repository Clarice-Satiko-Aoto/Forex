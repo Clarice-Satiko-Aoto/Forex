{
 "cells": [
  {
   "cell_type": "code",
   "execution_count": null,
   "metadata": {},
   "outputs": [],
   "source": []
  },
  {
   "cell_type": "markdown",
   "metadata": {},
   "source": [
    "# verificação de dataset para utilização no projeto"
   ]
  },
  {
   "cell_type": "markdown",
   "metadata": {},
   "source": [
    "## import libraries"
   ]
  },
  {
   "cell_type": "code",
   "execution_count": 1,
   "metadata": {},
   "outputs": [],
   "source": [
    "#import das bibliotecas\n",
    "import pandas as pd\n",
    "import numpy as np\n",
    "import matplotlib.pyplot as plt"
   ]
  },
  {
   "cell_type": "markdown",
   "metadata": {},
   "source": [
    "## CNBC"
   ]
  },
  {
   "cell_type": "code",
   "execution_count": 2,
   "metadata": {},
   "outputs": [
    {
     "data": {
      "text/html": [
       "<div>\n",
       "<style scoped>\n",
       "    .dataframe tbody tr th:only-of-type {\n",
       "        vertical-align: middle;\n",
       "    }\n",
       "\n",
       "    .dataframe tbody tr th {\n",
       "        vertical-align: top;\n",
       "    }\n",
       "\n",
       "    .dataframe thead th {\n",
       "        text-align: right;\n",
       "    }\n",
       "</style>\n",
       "<table border=\"1\" class=\"dataframe\">\n",
       "  <thead>\n",
       "    <tr style=\"text-align: right;\">\n",
       "      <th></th>\n",
       "      <th>title</th>\n",
       "      <th>published_at</th>\n",
       "      <th>publisher</th>\n",
       "      <th>short_description</th>\n",
       "      <th>description</th>\n",
       "    </tr>\n",
       "  </thead>\n",
       "  <tbody>\n",
       "    <tr>\n",
       "      <th>0</th>\n",
       "      <td>Santoli’s Wednesday market notes: Could Septem...</td>\n",
       "      <td>2021-09-29T17:09:39+0000</td>\n",
       "      <td>CNBC</td>\n",
       "      <td>This is the daily notebook of Mike Santoli, CN...</td>\n",
       "      <td>This is the daily notebook of Mike Santoli, CN...</td>\n",
       "    </tr>\n",
       "    <tr>\n",
       "      <th>1</th>\n",
       "      <td>My take on the early Brexit winners and losers</td>\n",
       "      <td>2016-06-24T13:50:48-0400</td>\n",
       "      <td>CNBC</td>\n",
       "      <td>This commentary originally ran on Facebook. Bo...</td>\n",
       "      <td>NaN</td>\n",
       "    </tr>\n",
       "  </tbody>\n",
       "</table>\n",
       "</div>"
      ],
      "text/plain": [
       "                                               title  \\\n",
       "0  Santoli’s Wednesday market notes: Could Septem...   \n",
       "1     My take on the early Brexit winners and losers   \n",
       "\n",
       "               published_at publisher  \\\n",
       "0  2021-09-29T17:09:39+0000      CNBC   \n",
       "1  2016-06-24T13:50:48-0400      CNBC   \n",
       "\n",
       "                                   short_description  \\\n",
       "0  This is the daily notebook of Mike Santoli, CN...   \n",
       "1  This commentary originally ran on Facebook. Bo...   \n",
       "\n",
       "                                         description  \n",
       "0  This is the daily notebook of Mike Santoli, CN...  \n",
       "1                                                NaN  "
      ]
     },
     "execution_count": 2,
     "metadata": {},
     "output_type": "execute_result"
    }
   ],
   "source": [
    "df_cnbc = pd.read_csv('C:\\Python\\Mentoria\\Forex\\Forex\\Dataset\\Original\\cnbc_news_datase.csv')\n",
    "\n",
    "#isolando as colunas que nos interessam\n",
    "cols = ['title', 'published_at', 'publisher', \\\n",
    "    'short_description', 'description']\n",
    "\n",
    "df_cnbc_filtered = df_cnbc[cols]\n",
    "df_cnbc_filtered.head(2)"
   ]
  },
  {
   "cell_type": "code",
   "execution_count": 5,
   "metadata": {},
   "outputs": [
    {
     "name": "stderr",
     "output_type": "stream",
     "text": [
      "C:\\Users\\Usuario\\AppData\\Local\\Temp\\ipykernel_19124\\1267337984.py:1: SettingWithCopyWarning: \n",
      "A value is trying to be set on a copy of a slice from a DataFrame.\n",
      "Try using .loc[row_indexer,col_indexer] = value instead\n",
      "\n",
      "See the caveats in the documentation: https://pandas.pydata.org/pandas-docs/stable/user_guide/indexing.html#returning-a-view-versus-a-copy\n",
      "  df_cnbc_filtered['published_at'] =pd.to_datetime(df_cnbc_filtered['published_at'])\n"
     ]
    }
   ],
   "source": [
    "df_cnbc_filtered['published_at'] =pd.to_datetime(df_cnbc_filtered['published_at'])"
   ]
  },
  {
   "cell_type": "code",
   "execution_count": 3,
   "metadata": {},
   "outputs": [
    {
     "data": {
      "text/plain": [
       "('2006-12-04T19:51:48+0000', '2021-10-18T08:00:25+0000')"
      ]
     },
     "execution_count": 3,
     "metadata": {},
     "output_type": "execute_result"
    }
   ],
   "source": [
    "df_cnbc_filtered['published_at'].min(), df_cnbc_filtered['published_at'].max()"
   ]
  },
  {
   "cell_type": "code",
   "execution_count": 6,
   "metadata": {},
   "outputs": [
    {
     "name": "stdout",
     "output_type": "stream",
     "text": [
      "<class 'pandas.core.frame.DataFrame'>\n",
      "RangeIndex: 625 entries, 0 to 624\n",
      "Data columns (total 5 columns):\n",
      " #   Column             Non-Null Count  Dtype \n",
      "---  ------             --------------  ----- \n",
      " 0   title              625 non-null    object\n",
      " 1   published_at       625 non-null    object\n",
      " 2   publisher          625 non-null    object\n",
      " 3   short_description  609 non-null    object\n",
      " 4   description        593 non-null    object\n",
      "dtypes: object(5)\n",
      "memory usage: 24.5+ KB\n"
     ]
    }
   ],
   "source": [
    "df_cnbc_filtered.info()"
   ]
  },
  {
   "cell_type": "code",
   "execution_count": 87,
   "metadata": {},
   "outputs": [],
   "source": [
    "df_cnbc_filtered.to_csv('cnbc_dataset.csv', index= False)"
   ]
  },
  {
   "cell_type": "markdown",
   "metadata": {},
   "source": [
    "## Huffpost\n",
    "> como o objetivo do projeto é verificar o price action no mmomento da notícia, vamos desconsiderar este dataset por não ter horário da publicação da matéria"
   ]
  },
  {
   "cell_type": "code",
   "execution_count": 75,
   "metadata": {},
   "outputs": [
    {
     "name": "stderr",
     "output_type": "stream",
     "text": [
      "C:\\Users\\Usuario\\AppData\\Local\\Temp\\ipykernel_2916\\1349461916.py:14: SettingWithCopyWarning: \n",
      "A value is trying to be set on a copy of a slice from a DataFrame\n",
      "\n",
      "See the caveats in the documentation: https://pandas.pydata.org/pandas-docs/stable/user_guide/indexing.html#returning-a-view-versus-a-copy\n",
      "  df_huffpost_filtered.rename(\n"
     ]
    },
    {
     "data": {
      "text/html": [
       "<div>\n",
       "<style scoped>\n",
       "    .dataframe tbody tr th:only-of-type {\n",
       "        vertical-align: middle;\n",
       "    }\n",
       "\n",
       "    .dataframe tbody tr th {\n",
       "        vertical-align: top;\n",
       "    }\n",
       "\n",
       "    .dataframe thead th {\n",
       "        text-align: right;\n",
       "    }\n",
       "</style>\n",
       "<table border=\"1\" class=\"dataframe\">\n",
       "  <thead>\n",
       "    <tr style=\"text-align: right;\">\n",
       "      <th></th>\n",
       "      <th>title</th>\n",
       "      <th>short_description</th>\n",
       "      <th>publisher</th>\n",
       "      <th>description</th>\n",
       "      <th>published_at</th>\n",
       "    </tr>\n",
       "  </thead>\n",
       "  <tbody>\n",
       "    <tr>\n",
       "      <th>0</th>\n",
       "      <td>Kidnapped By A Narcissist: The GOP's Stockholm...</td>\n",
       "      <td>It is two months since Donald Trump clinched t...</td>\n",
       "      <td>HuffPost</td>\n",
       "      <td>It is two months since Donald Trump clinched t...</td>\n",
       "      <td>07/05/16</td>\n",
       "    </tr>\n",
       "    <tr>\n",
       "      <th>1</th>\n",
       "      <td>The Refreshing Reason Google's CFO Is Leaving</td>\n",
       "      <td>NaN</td>\n",
       "      <td>HuffPost</td>\n",
       "      <td>\"After nearly seven years as CFO, I will be re...</td>\n",
       "      <td>03/11/15</td>\n",
       "    </tr>\n",
       "  </tbody>\n",
       "</table>\n",
       "</div>"
      ],
      "text/plain": [
       "                                               title  \\\n",
       "0  Kidnapped By A Narcissist: The GOP's Stockholm...   \n",
       "1      The Refreshing Reason Google's CFO Is Leaving   \n",
       "\n",
       "                                   short_description publisher  \\\n",
       "0  It is two months since Donald Trump clinched t...  HuffPost   \n",
       "1                                                NaN  HuffPost   \n",
       "\n",
       "                                         description published_at  \n",
       "0  It is two months since Donald Trump clinched t...     07/05/16  \n",
       "1  \"After nearly seven years as CFO, I will be re...     03/11/15  "
      ]
     },
     "execution_count": 75,
     "metadata": {},
     "output_type": "execute_result"
    }
   ],
   "source": [
    "df_huffpost = pd.read_csv('C:\\Python\\Mentoria\\Forex\\Forex\\Dataset\\Original\\huff.csv')\n",
    "\n",
    "#filtrando os dados que nos interessam\n",
    "filtro = ['Business','Politics']\n",
    "df_huffpost_selected = df_huffpost[df_huffpost.tags.isin(filtro)]\n",
    "\n",
    "\n",
    "#isolando as colunas que nos interessam\n",
    "cols = ['headline', 'short_description', \\\n",
    "    'source_title',  'description',  'published_at']\n",
    "df_huffpost_filtered = df_huffpost_selected[cols]\n",
    "\n",
    "#renomeando as colunas\n",
    "df_huffpost_filtered.rename(\n",
    "    columns = {'headline': 'title',\n",
    "    'source_title': 'publisher',\n",
    "    }, inplace = True)\n",
    "\n",
    "# #reset index\n",
    "# df_huffpost_filtered.reset_index(inplace= True)\n",
    "\n",
    "\n",
    "df_huffpost_filtered.head(2)\n",
    "\n"
   ]
  },
  {
   "cell_type": "code",
   "execution_count": 76,
   "metadata": {},
   "outputs": [
    {
     "name": "stderr",
     "output_type": "stream",
     "text": [
      "C:\\Users\\Usuario\\AppData\\Local\\Temp\\ipykernel_2916\\2352604656.py:1: SettingWithCopyWarning: \n",
      "A value is trying to be set on a copy of a slice from a DataFrame.\n",
      "Try using .loc[row_indexer,col_indexer] = value instead\n",
      "\n",
      "See the caveats in the documentation: https://pandas.pydata.org/pandas-docs/stable/user_guide/indexing.html#returning-a-view-versus-a-copy\n",
      "  df_huffpost_filtered['published_at'] = pd.to_datetime(df_huffpost_filtered['published_at'])\n"
     ]
    },
    {
     "data": {
      "text/plain": [
       "(Timestamp('2015-01-12 00:00:00'), Timestamp('2017-01-24 00:00:00'))"
      ]
     },
     "execution_count": 76,
     "metadata": {},
     "output_type": "execute_result"
    }
   ],
   "source": [
    "df_huffpost_filtered['published_at'] = pd.to_datetime(df_huffpost_filtered['published_at'])\n",
    "df_huffpost_filtered['published_at'].min(), df_huffpost_filtered['published_at'].max()"
   ]
  },
  {
   "cell_type": "markdown",
   "metadata": {},
   "source": [
    "## us economy newspaper\n",
    "\n",
    "> por ser dados muito antigos, este dataset será desconsiderado"
   ]
  },
  {
   "cell_type": "markdown",
   "metadata": {},
   "source": [
    "# Dados compilados"
   ]
  },
  {
   "cell_type": "code",
   "execution_count": 97,
   "metadata": {},
   "outputs": [
    {
     "name": "stdout",
     "output_type": "stream",
     "text": [
      "<class 'pandas.core.frame.DataFrame'>\n",
      "RangeIndex: 625 entries, 0 to 624\n",
      "Data columns (total 5 columns):\n",
      " #   Column             Non-Null Count  Dtype \n",
      "---  ------             --------------  ----- \n",
      " 0   title              625 non-null    object\n",
      " 1   published_at       625 non-null    object\n",
      " 2   publisher          625 non-null    object\n",
      " 3   short_description  609 non-null    object\n",
      " 4   description        593 non-null    object\n",
      "dtypes: object(5)\n",
      "memory usage: 24.5+ KB\n"
     ]
    }
   ],
   "source": [
    "#carregando os arquivos\n",
    "df_c = pd.read_csv('C:\\Python\\Mentoria\\Forex\\Forex\\Dataset\\compilado\\cnbc_dataset.csv')\n",
    "df_c.info()"
   ]
  },
  {
   "cell_type": "code",
   "execution_count": 98,
   "metadata": {},
   "outputs": [
    {
     "name": "stdout",
     "output_type": "stream",
     "text": [
      "<class 'pandas.core.frame.DataFrame'>\n",
      "RangeIndex: 625 entries, 0 to 624\n",
      "Data columns (total 5 columns):\n",
      " #   Column             Non-Null Count  Dtype \n",
      "---  ------             --------------  ----- \n",
      " 0   title              625 non-null    object\n",
      " 1   published_at       625 non-null    object\n",
      " 2   publisher          625 non-null    object\n",
      " 3   short_description  609 non-null    object\n",
      " 4   description        593 non-null    object\n",
      "dtypes: object(5)\n",
      "memory usage: 24.5+ KB\n"
     ]
    }
   ],
   "source": [
    "df_c['published_at'] = pd.to_datetime(df_c['published_at'])\n",
    "df_c.info()"
   ]
  },
  {
   "cell_type": "code",
   "execution_count": 99,
   "metadata": {},
   "outputs": [
    {
     "data": {
      "text/plain": [
       "(datetime.datetime(2006, 12, 4, 19, 51, 48, tzinfo=tzutc()),\n",
       " datetime.datetime(2021, 10, 18, 8, 0, 25, tzinfo=tzutc()))"
      ]
     },
     "execution_count": 99,
     "metadata": {},
     "output_type": "execute_result"
    }
   ],
   "source": [
    "df_c['published_at'].min(), df_c['published_at'].max()"
   ]
  },
  {
   "cell_type": "code",
   "execution_count": null,
   "metadata": {},
   "outputs": [],
   "source": []
  }
 ],
 "metadata": {
  "kernelspec": {
   "display_name": "Python 3.9.12 ('base')",
   "language": "python",
   "name": "python3"
  },
  "language_info": {
   "codemirror_mode": {
    "name": "ipython",
    "version": 3
   },
   "file_extension": ".py",
   "mimetype": "text/x-python",
   "name": "python",
   "nbconvert_exporter": "python",
   "pygments_lexer": "ipython3",
   "version": "3.9.12"
  },
  "orig_nbformat": 4,
  "vscode": {
   "interpreter": {
    "hash": "e06ff7da33dc9620448857a90ad8b5f428f0d573d205a934d2841c8aee45ea32"
   }
  }
 },
 "nbformat": 4,
 "nbformat_minor": 2
}
