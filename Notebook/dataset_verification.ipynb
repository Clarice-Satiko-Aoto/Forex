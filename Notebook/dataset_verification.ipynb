{
 "cells": [
  {
   "cell_type": "code",
   "execution_count": null,
   "metadata": {},
   "outputs": [],
   "source": []
  },
  {
   "cell_type": "markdown",
   "metadata": {},
   "source": [
    "# verificação de dataset para utilização no projeto"
   ]
  },
  {
   "cell_type": "markdown",
   "metadata": {},
   "source": [
    "## import libraries"
   ]
  },
  {
   "cell_type": "code",
   "execution_count": 2,
   "metadata": {},
   "outputs": [],
   "source": [
    "#import das bibliotecas\n",
    "import pandas as pd\n",
    "import numpy as np"
   ]
  },
  {
   "cell_type": "markdown",
   "metadata": {},
   "source": [
    "## CNBC"
   ]
  },
  {
   "cell_type": "code",
   "execution_count": 4,
   "metadata": {},
   "outputs": [
    {
     "data": {
      "text/html": [
       "<div>\n",
       "<style scoped>\n",
       "    .dataframe tbody tr th:only-of-type {\n",
       "        vertical-align: middle;\n",
       "    }\n",
       "\n",
       "    .dataframe tbody tr th {\n",
       "        vertical-align: top;\n",
       "    }\n",
       "\n",
       "    .dataframe thead th {\n",
       "        text-align: right;\n",
       "    }\n",
       "</style>\n",
       "<table border=\"1\" class=\"dataframe\">\n",
       "  <thead>\n",
       "    <tr style=\"text-align: right;\">\n",
       "      <th></th>\n",
       "      <th>title</th>\n",
       "      <th>published_at</th>\n",
       "      <th>publisher</th>\n",
       "      <th>short_description</th>\n",
       "      <th>description</th>\n",
       "    </tr>\n",
       "  </thead>\n",
       "  <tbody>\n",
       "    <tr>\n",
       "      <th>0</th>\n",
       "      <td>Santoli’s Wednesday market notes: Could Septem...</td>\n",
       "      <td>2021-09-29T17:09:39+0000</td>\n",
       "      <td>CNBC</td>\n",
       "      <td>This is the daily notebook of Mike Santoli, CN...</td>\n",
       "      <td>This is the daily notebook of Mike Santoli, CN...</td>\n",
       "    </tr>\n",
       "    <tr>\n",
       "      <th>1</th>\n",
       "      <td>My take on the early Brexit winners and losers</td>\n",
       "      <td>2016-06-24T13:50:48-0400</td>\n",
       "      <td>CNBC</td>\n",
       "      <td>This commentary originally ran on Facebook. Bo...</td>\n",
       "      <td>NaN</td>\n",
       "    </tr>\n",
       "  </tbody>\n",
       "</table>\n",
       "</div>"
      ],
      "text/plain": [
       "                                               title  \\\n",
       "0  Santoli’s Wednesday market notes: Could Septem...   \n",
       "1     My take on the early Brexit winners and losers   \n",
       "\n",
       "               published_at publisher  \\\n",
       "0  2021-09-29T17:09:39+0000      CNBC   \n",
       "1  2016-06-24T13:50:48-0400      CNBC   \n",
       "\n",
       "                                   short_description  \\\n",
       "0  This is the daily notebook of Mike Santoli, CN...   \n",
       "1  This commentary originally ran on Facebook. Bo...   \n",
       "\n",
       "                                         description  \n",
       "0  This is the daily notebook of Mike Santoli, CN...  \n",
       "1                                                NaN  "
      ]
     },
     "execution_count": 4,
     "metadata": {},
     "output_type": "execute_result"
    }
   ],
   "source": [
    "df_cnbc = pd.read_csv('C:\\Python\\Mentoria\\Forex\\Forex\\Dataset\\Original\\cnbc_news_datase.csv')\n",
    "\n",
    "#isolando as colunas que nos interessam\n",
    "cols = ['title', 'published_at', 'publisher', \\\n",
    "    'short_description', 'description']\n",
    "\n",
    "df_cnbc_filtered = df_cnbc[cols]\n",
    "df_cnbc_filtered.head(2)"
   ]
  },
  {
   "cell_type": "code",
   "execution_count": 42,
   "metadata": {},
   "outputs": [
    {
     "name": "stdout",
     "output_type": "stream",
     "text": [
      "<class 'pandas.core.frame.DataFrame'>\n",
      "RangeIndex: 625 entries, 0 to 624\n",
      "Data columns (total 11 columns):\n",
      " #   Column             Non-Null Count  Dtype \n",
      "---  ------             --------------  ----- \n",
      " 0   title              625 non-null    object\n",
      " 1   url                625 non-null    object\n",
      " 2   published_at       625 non-null    object\n",
      " 3   author             397 non-null    object\n",
      " 4   publisher          625 non-null    object\n",
      " 5   short_description  609 non-null    object\n",
      " 6   keywords           625 non-null    object\n",
      " 7   header_image       625 non-null    object\n",
      " 8   raw_description    594 non-null    object\n",
      " 9   description        593 non-null    object\n",
      " 10  scraped_at         625 non-null    object\n",
      "dtypes: object(11)\n",
      "memory usage: 53.8+ KB\n"
     ]
    }
   ],
   "source": [
    "df_cnbc.info()"
   ]
  },
  {
   "cell_type": "markdown",
   "metadata": {},
   "source": [
    "## Huffpost"
   ]
  },
  {
   "cell_type": "code",
   "execution_count": 18,
   "metadata": {},
   "outputs": [
    {
     "name": "stderr",
     "output_type": "stream",
     "text": [
      "C:\\Users\\Usuario\\AppData\\Local\\Temp\\ipykernel_2916\\1349461916.py:14: SettingWithCopyWarning: \n",
      "A value is trying to be set on a copy of a slice from a DataFrame\n",
      "\n",
      "See the caveats in the documentation: https://pandas.pydata.org/pandas-docs/stable/user_guide/indexing.html#returning-a-view-versus-a-copy\n",
      "  df_huffpost_filtered.rename(\n"
     ]
    },
    {
     "data": {
      "text/html": [
       "<div>\n",
       "<style scoped>\n",
       "    .dataframe tbody tr th:only-of-type {\n",
       "        vertical-align: middle;\n",
       "    }\n",
       "\n",
       "    .dataframe tbody tr th {\n",
       "        vertical-align: top;\n",
       "    }\n",
       "\n",
       "    .dataframe thead th {\n",
       "        text-align: right;\n",
       "    }\n",
       "</style>\n",
       "<table border=\"1\" class=\"dataframe\">\n",
       "  <thead>\n",
       "    <tr style=\"text-align: right;\">\n",
       "      <th></th>\n",
       "      <th>title</th>\n",
       "      <th>short_description</th>\n",
       "      <th>publisher</th>\n",
       "      <th>description</th>\n",
       "      <th>published_at</th>\n",
       "    </tr>\n",
       "  </thead>\n",
       "  <tbody>\n",
       "    <tr>\n",
       "      <th>0</th>\n",
       "      <td>Kidnapped By A Narcissist: The GOP's Stockholm...</td>\n",
       "      <td>It is two months since Donald Trump clinched t...</td>\n",
       "      <td>HuffPost</td>\n",
       "      <td>It is two months since Donald Trump clinched t...</td>\n",
       "      <td>07/05/16</td>\n",
       "    </tr>\n",
       "    <tr>\n",
       "      <th>1</th>\n",
       "      <td>The Refreshing Reason Google's CFO Is Leaving</td>\n",
       "      <td>NaN</td>\n",
       "      <td>HuffPost</td>\n",
       "      <td>\"After nearly seven years as CFO, I will be re...</td>\n",
       "      <td>03/11/15</td>\n",
       "    </tr>\n",
       "  </tbody>\n",
       "</table>\n",
       "</div>"
      ],
      "text/plain": [
       "                                               title  \\\n",
       "0  Kidnapped By A Narcissist: The GOP's Stockholm...   \n",
       "1      The Refreshing Reason Google's CFO Is Leaving   \n",
       "\n",
       "                                   short_description publisher  \\\n",
       "0  It is two months since Donald Trump clinched t...  HuffPost   \n",
       "1                                                NaN  HuffPost   \n",
       "\n",
       "                                         description published_at  \n",
       "0  It is two months since Donald Trump clinched t...     07/05/16  \n",
       "1  \"After nearly seven years as CFO, I will be re...     03/11/15  "
      ]
     },
     "execution_count": 18,
     "metadata": {},
     "output_type": "execute_result"
    }
   ],
   "source": [
    "df_huffpost = pd.read_csv('C:\\Python\\Mentoria\\Forex\\Forex\\Dataset\\Original\\huff.csv')\n",
    "\n",
    "#filtrando os dados que nos interessam\n",
    "filtro = ['Business','Politics']\n",
    "df_huffpost_selected = df_huffpost[df_huffpost.tags.isin(filtro)]\n",
    "\n",
    "\n",
    "#isolando as colunas que nos interessam\n",
    "cols = ['headline', 'short_description', \\\n",
    "    'source_title',  'description',  'published_at']\n",
    "df_huffpost_filtered = df_huffpost_selected[cols]\n",
    "\n",
    "#renomeando as colunas\n",
    "df_huffpost_filtered.rename(\n",
    "    columns = {'headline': 'title',\n",
    "    'source_title': 'publisher',\n",
    "    }, inplace = True)\n",
    "\n",
    "# #reset index\n",
    "# df_huffpost_filtered.reset_index(inplace= True)\n",
    "\n",
    "\n",
    "df_huffpost_filtered.head(2)\n",
    "\n"
   ]
  },
  {
   "cell_type": "markdown",
   "metadata": {},
   "source": [
    "## us economy newspaper"
   ]
  },
  {
   "cell_type": "code",
   "execution_count": 23,
   "metadata": {},
   "outputs": [
    {
     "data": {
      "text/html": [
       "<div>\n",
       "<style scoped>\n",
       "    .dataframe tbody tr th:only-of-type {\n",
       "        vertical-align: middle;\n",
       "    }\n",
       "\n",
       "    .dataframe tbody tr th {\n",
       "        vertical-align: top;\n",
       "    }\n",
       "\n",
       "    .dataframe thead th {\n",
       "        text-align: right;\n",
       "    }\n",
       "</style>\n",
       "<table border=\"1\" class=\"dataframe\">\n",
       "  <thead>\n",
       "    <tr style=\"text-align: right;\">\n",
       "      <th></th>\n",
       "      <th>_unit_id</th>\n",
       "      <th>_golden</th>\n",
       "      <th>_unit_state</th>\n",
       "      <th>_trusted_judgments</th>\n",
       "      <th>_last_judgment_at</th>\n",
       "      <th>positivity</th>\n",
       "      <th>positivity:confidence</th>\n",
       "      <th>relevance</th>\n",
       "      <th>relevance:confidence</th>\n",
       "      <th>orig__golden</th>\n",
       "      <th>articleid</th>\n",
       "      <th>date</th>\n",
       "      <th>headline</th>\n",
       "      <th>lineid</th>\n",
       "      <th>next_sentence</th>\n",
       "      <th>positivity_gold</th>\n",
       "      <th>previous_sentence</th>\n",
       "      <th>relevance_gold</th>\n",
       "      <th>text</th>\n",
       "    </tr>\n",
       "  </thead>\n",
       "  <tbody>\n",
       "    <tr>\n",
       "      <th>0</th>\n",
       "      <td>729487630</td>\n",
       "      <td>False</td>\n",
       "      <td>finalized</td>\n",
       "      <td>3</td>\n",
       "      <td>6/8/15 14:26</td>\n",
       "      <td>NaN</td>\n",
       "      <td>0.0000</td>\n",
       "      <td>not sure</td>\n",
       "      <td>0.3469</td>\n",
       "      <td>NaN</td>\n",
       "      <td>109092213</td>\n",
       "      <td>2/23/93</td>\n",
       "      <td>Nasdaq Index Falls 1.7% But Dow Stocks Are Up:...</td>\n",
       "      <td>109092213_01</td>\n",
       "      <td>The Nasdaq composite index, home of technology...</td>\n",
       "      <td>NaN</td>\n",
       "      <td>NaN</td>\n",
       "      <td>NaN</td>\n",
       "      <td>The stock market accelerated its screeching sw...</td>\n",
       "    </tr>\n",
       "    <tr>\n",
       "      <th>1</th>\n",
       "      <td>729487631</td>\n",
       "      <td>False</td>\n",
       "      <td>finalized</td>\n",
       "      <td>3</td>\n",
       "      <td>6/11/15 10:58</td>\n",
       "      <td>6.0</td>\n",
       "      <td>0.3675</td>\n",
       "      <td>yes</td>\n",
       "      <td>1.0000</td>\n",
       "      <td>NaN</td>\n",
       "      <td>109092213</td>\n",
       "      <td>2/23/93</td>\n",
       "      <td>Nasdaq Index Falls 1.7% But Dow Stocks Are Up:...</td>\n",
       "      <td>109092213_02</td>\n",
       "      <td>The bond market continued to rally, propelling...</td>\n",
       "      <td>NaN</td>\n",
       "      <td>The stock market accelerated its screeching sw...</td>\n",
       "      <td>NaN</td>\n",
       "      <td>The Nasdaq composite index, home of technology...</td>\n",
       "    </tr>\n",
       "  </tbody>\n",
       "</table>\n",
       "</div>"
      ],
      "text/plain": [
       "    _unit_id  _golden _unit_state  _trusted_judgments _last_judgment_at  \\\n",
       "0  729487630    False   finalized                   3      6/8/15 14:26   \n",
       "1  729487631    False   finalized                   3     6/11/15 10:58   \n",
       "\n",
       "   positivity  positivity:confidence relevance  relevance:confidence  \\\n",
       "0         NaN                 0.0000  not sure                0.3469   \n",
       "1         6.0                 0.3675       yes                1.0000   \n",
       "\n",
       "  orig__golden  articleid     date  \\\n",
       "0          NaN  109092213  2/23/93   \n",
       "1          NaN  109092213  2/23/93   \n",
       "\n",
       "                                            headline        lineid  \\\n",
       "0  Nasdaq Index Falls 1.7% But Dow Stocks Are Up:...  109092213_01   \n",
       "1  Nasdaq Index Falls 1.7% But Dow Stocks Are Up:...  109092213_02   \n",
       "\n",
       "                                       next_sentence positivity_gold  \\\n",
       "0  The Nasdaq composite index, home of technology...             NaN   \n",
       "1  The bond market continued to rally, propelling...             NaN   \n",
       "\n",
       "                                   previous_sentence relevance_gold  \\\n",
       "0                                                NaN            NaN   \n",
       "1  The stock market accelerated its screeching sw...            NaN   \n",
       "\n",
       "                                                text  \n",
       "0  The stock market accelerated its screeching sw...  \n",
       "1  The Nasdaq composite index, home of technology...  "
      ]
     },
     "execution_count": 23,
     "metadata": {},
     "output_type": "execute_result"
    }
   ],
   "source": [
    "df_us = pd.read_csv(r'C:\\Python\\Mentoria\\Forex\\Forex\\Dataset\\Original\\us-economic-newspaper.csv', delimiter=',', encoding = 'ISO-8859-1')\n",
    "df_us.head(2)"
   ]
  },
  {
   "cell_type": "code",
   "execution_count": 24,
   "metadata": {},
   "outputs": [
    {
     "data": {
      "text/html": [
       "<div>\n",
       "<style scoped>\n",
       "    .dataframe tbody tr th:only-of-type {\n",
       "        vertical-align: middle;\n",
       "    }\n",
       "\n",
       "    .dataframe tbody tr th {\n",
       "        vertical-align: top;\n",
       "    }\n",
       "\n",
       "    .dataframe thead th {\n",
       "        text-align: right;\n",
       "    }\n",
       "</style>\n",
       "<table border=\"1\" class=\"dataframe\">\n",
       "  <thead>\n",
       "    <tr style=\"text-align: right;\">\n",
       "      <th></th>\n",
       "      <th>date</th>\n",
       "      <th>headline</th>\n",
       "      <th>text</th>\n",
       "    </tr>\n",
       "  </thead>\n",
       "  <tbody>\n",
       "    <tr>\n",
       "      <th>0</th>\n",
       "      <td>2/23/93</td>\n",
       "      <td>Nasdaq Index Falls 1.7% But Dow Stocks Are Up:...</td>\n",
       "      <td>The stock market accelerated its screeching sw...</td>\n",
       "    </tr>\n",
       "    <tr>\n",
       "      <th>1</th>\n",
       "      <td>2/23/93</td>\n",
       "      <td>Nasdaq Index Falls 1.7% But Dow Stocks Are Up:...</td>\n",
       "      <td>The Nasdaq composite index, home of technology...</td>\n",
       "    </tr>\n",
       "  </tbody>\n",
       "</table>\n",
       "</div>"
      ],
      "text/plain": [
       "      date                                           headline  \\\n",
       "0  2/23/93  Nasdaq Index Falls 1.7% But Dow Stocks Are Up:...   \n",
       "1  2/23/93  Nasdaq Index Falls 1.7% But Dow Stocks Are Up:...   \n",
       "\n",
       "                                                text  \n",
       "0  The stock market accelerated its screeching sw...  \n",
       "1  The Nasdaq composite index, home of technology...  "
      ]
     },
     "execution_count": 24,
     "metadata": {},
     "output_type": "execute_result"
    }
   ],
   "source": [
    "cols = ['date','headline','text']\n",
    "df_us_filtered = df_us[cols]\n",
    "df_us_filtered.head(2)"
   ]
  },
  {
   "cell_type": "code",
   "execution_count": 28,
   "metadata": {},
   "outputs": [
    {
     "name": "stderr",
     "output_type": "stream",
     "text": [
      "C:\\Users\\Usuario\\AppData\\Local\\Temp\\ipykernel_2916\\1799500804.py:1: SettingWithCopyWarning: \n",
      "A value is trying to be set on a copy of a slice from a DataFrame.\n",
      "Try using .loc[row_indexer,col_indexer] = value instead\n",
      "\n",
      "See the caveats in the documentation: https://pandas.pydata.org/pandas-docs/stable/user_guide/indexing.html#returning-a-view-versus-a-copy\n",
      "  df_us_filtered['description'] = np.nan\n",
      "C:\\Users\\Usuario\\AppData\\Local\\Temp\\ipykernel_2916\\1799500804.py:2: SettingWithCopyWarning: \n",
      "A value is trying to be set on a copy of a slice from a DataFrame.\n",
      "Try using .loc[row_indexer,col_indexer] = value instead\n",
      "\n",
      "See the caveats in the documentation: https://pandas.pydata.org/pandas-docs/stable/user_guide/indexing.html#returning-a-view-versus-a-copy\n",
      "  df_us_filtered['publisher'] = 'News'\n"
     ]
    },
    {
     "data": {
      "text/html": [
       "<div>\n",
       "<style scoped>\n",
       "    .dataframe tbody tr th:only-of-type {\n",
       "        vertical-align: middle;\n",
       "    }\n",
       "\n",
       "    .dataframe tbody tr th {\n",
       "        vertical-align: top;\n",
       "    }\n",
       "\n",
       "    .dataframe thead th {\n",
       "        text-align: right;\n",
       "    }\n",
       "</style>\n",
       "<table border=\"1\" class=\"dataframe\">\n",
       "  <thead>\n",
       "    <tr style=\"text-align: right;\">\n",
       "      <th></th>\n",
       "      <th>published_at</th>\n",
       "      <th>title</th>\n",
       "      <th>short_description</th>\n",
       "      <th>publisher</th>\n",
       "      <th>description</th>\n",
       "    </tr>\n",
       "  </thead>\n",
       "  <tbody>\n",
       "    <tr>\n",
       "      <th>0</th>\n",
       "      <td>2/23/93</td>\n",
       "      <td>Nasdaq Index Falls 1.7% But Dow Stocks Are Up:...</td>\n",
       "      <td>The stock market accelerated its screeching sw...</td>\n",
       "      <td>News</td>\n",
       "      <td>NaN</td>\n",
       "    </tr>\n",
       "    <tr>\n",
       "      <th>1</th>\n",
       "      <td>2/23/93</td>\n",
       "      <td>Nasdaq Index Falls 1.7% But Dow Stocks Are Up:...</td>\n",
       "      <td>The Nasdaq composite index, home of technology...</td>\n",
       "      <td>News</td>\n",
       "      <td>NaN</td>\n",
       "    </tr>\n",
       "  </tbody>\n",
       "</table>\n",
       "</div>"
      ],
      "text/plain": [
       "  published_at                                              title  \\\n",
       "0      2/23/93  Nasdaq Index Falls 1.7% But Dow Stocks Are Up:...   \n",
       "1      2/23/93  Nasdaq Index Falls 1.7% But Dow Stocks Are Up:...   \n",
       "\n",
       "                                   short_description publisher  description  \n",
       "0  The stock market accelerated its screeching sw...      News          NaN  \n",
       "1  The Nasdaq composite index, home of technology...      News          NaN  "
      ]
     },
     "execution_count": 28,
     "metadata": {},
     "output_type": "execute_result"
    }
   ],
   "source": [
    "\n",
    "df_us_filtered['description'] = np.nan\n",
    "df_us_filtered['publisher'] = 'News'\n",
    "\n",
    "\n",
    "#renomeando as colunas\n",
    "df_us_filtered.rename(\n",
    "    columns = {'headline': 'title',\n",
    "    'date': 'published_at',\n",
    "    'text': 'short_description',\n",
    "    }, inplace = True)\n",
    "\n",
    "df_us_filtered.head(2)"
   ]
  },
  {
   "cell_type": "markdown",
   "metadata": {},
   "source": [
    "## Unindo os dataframes"
   ]
  },
  {
   "cell_type": "code",
   "execution_count": 37,
   "metadata": {},
   "outputs": [
    {
     "data": {
      "text/html": [
       "<div>\n",
       "<style scoped>\n",
       "    .dataframe tbody tr th:only-of-type {\n",
       "        vertical-align: middle;\n",
       "    }\n",
       "\n",
       "    .dataframe tbody tr th {\n",
       "        vertical-align: top;\n",
       "    }\n",
       "\n",
       "    .dataframe thead th {\n",
       "        text-align: right;\n",
       "    }\n",
       "</style>\n",
       "<table border=\"1\" class=\"dataframe\">\n",
       "  <thead>\n",
       "    <tr style=\"text-align: right;\">\n",
       "      <th></th>\n",
       "      <th>title</th>\n",
       "      <th>published_at</th>\n",
       "      <th>publisher</th>\n",
       "      <th>short_description</th>\n",
       "      <th>description</th>\n",
       "    </tr>\n",
       "  </thead>\n",
       "  <tbody>\n",
       "    <tr>\n",
       "      <th>3240</th>\n",
       "      <td>WELL-BEING: The Golden Years For Silver Prices...</td>\n",
       "      <td>3/12/02</td>\n",
       "      <td>News</td>\n",
       "      <td>Mr. Waddell, a 66-ycar-old money-management sp...</td>\n",
       "      <td>NaN</td>\n",
       "    </tr>\n",
       "    <tr>\n",
       "      <th>4060</th>\n",
       "      <td>Market Place: Gains Forecast For Gillette</td>\n",
       "      <td>11/25/86</td>\n",
       "      <td>News</td>\n",
       "      <td>ï¿½ï¿½ï¿½I have changed my rating on the stock...</td>\n",
       "      <td>NaN</td>\n",
       "    </tr>\n",
       "  </tbody>\n",
       "</table>\n",
       "</div>"
      ],
      "text/plain": [
       "                                                  title published_at  \\\n",
       "3240  WELL-BEING: The Golden Years For Silver Prices...      3/12/02   \n",
       "4060          Market Place: Gains Forecast For Gillette     11/25/86   \n",
       "\n",
       "     publisher                                  short_description description  \n",
       "3240      News  Mr. Waddell, a 66-ycar-old money-management sp...         NaN  \n",
       "4060      News  ï¿½ï¿½ï¿½I have changed my rating on the stock...         NaN  "
      ]
     },
     "execution_count": 37,
     "metadata": {},
     "output_type": "execute_result"
    }
   ],
   "source": [
    "df = pd.concat([df_cnbc_filtered, df_huffpost_filtered, df_us_filtered])\n",
    "df.sample(2)"
   ]
  },
  {
   "cell_type": "code",
   "execution_count": 38,
   "metadata": {},
   "outputs": [
    {
     "name": "stdout",
     "output_type": "stream",
     "text": [
      "<class 'pandas.core.frame.DataFrame'>\n",
      "Int64Index: 5667 entries, 0 to 5012\n",
      "Data columns (total 5 columns):\n",
      " #   Column             Non-Null Count  Dtype \n",
      "---  ------             --------------  ----- \n",
      " 0   title              5667 non-null   object\n",
      " 1   published_at       5667 non-null   object\n",
      " 2   publisher          5667 non-null   object\n",
      " 3   short_description  5642 non-null   object\n",
      " 4   description        622 non-null    object\n",
      "dtypes: object(5)\n",
      "memory usage: 265.6+ KB\n"
     ]
    }
   ],
   "source": [
    "df.info()"
   ]
  },
  {
   "cell_type": "code",
   "execution_count": 39,
   "metadata": {},
   "outputs": [
    {
     "data": {
      "text/plain": [
       "News        5013\n",
       "CNBC         625\n",
       "HuffPost      29\n",
       "Name: publisher, dtype: int64"
      ]
     },
     "execution_count": 39,
     "metadata": {},
     "output_type": "execute_result"
    }
   ],
   "source": [
    "df.publisher.value_counts()"
   ]
  },
  {
   "cell_type": "code",
   "execution_count": 42,
   "metadata": {},
   "outputs": [
    {
     "data": {
      "text/html": [
       "<div>\n",
       "<style scoped>\n",
       "    .dataframe tbody tr th:only-of-type {\n",
       "        vertical-align: middle;\n",
       "    }\n",
       "\n",
       "    .dataframe tbody tr th {\n",
       "        vertical-align: top;\n",
       "    }\n",
       "\n",
       "    .dataframe thead th {\n",
       "        text-align: right;\n",
       "    }\n",
       "</style>\n",
       "<table border=\"1\" class=\"dataframe\">\n",
       "  <thead>\n",
       "    <tr style=\"text-align: right;\">\n",
       "      <th></th>\n",
       "      <th>title</th>\n",
       "      <th>published_at</th>\n",
       "      <th>publisher</th>\n",
       "      <th>short_description</th>\n",
       "      <th>description</th>\n",
       "    </tr>\n",
       "  </thead>\n",
       "  <tbody>\n",
       "    <tr>\n",
       "      <th>4451</th>\n",
       "      <td>Profit Taking Slows Market's Rally; Volume Is ...</td>\n",
       "      <td>1/29/75</td>\n",
       "      <td>News</td>\n",
       "      <td>Arthur E. de Cordova gesturing during the sess...</td>\n",
       "      <td>NaN</td>\n",
       "    </tr>\n",
       "    <tr>\n",
       "      <th>4889</th>\n",
       "      <td>Reports on Business Conditions Throughout Unit...</td>\n",
       "      <td>4/8/56</td>\n",
       "      <td>News</td>\n",
       "      <td>Following are reports of business activity in ...</td>\n",
       "      <td>NaN</td>\n",
       "    </tr>\n",
       "    <tr>\n",
       "      <th>4963</th>\n",
       "      <td>Paying the Injured Worker: Paying Efforts to I...</td>\n",
       "      <td>8/5/73</td>\n",
       "      <td>News</td>\n",
       "      <td>i In fact, as of last year the ' maximum weekl...</td>\n",
       "      <td>NaN</td>\n",
       "    </tr>\n",
       "    <tr>\n",
       "      <th>134</th>\n",
       "      <td>Market Place: Weis Securities Liquidation</td>\n",
       "      <td>8/9/73</td>\n",
       "      <td>News</td>\n",
       "      <td>Trouble is, you are uncer- would go for less m...</td>\n",
       "      <td>NaN</td>\n",
       "    </tr>\n",
       "  </tbody>\n",
       "</table>\n",
       "</div>"
      ],
      "text/plain": [
       "                                                  title published_at  \\\n",
       "4451  Profit Taking Slows Market's Rally; Volume Is ...      1/29/75   \n",
       "4889  Reports on Business Conditions Throughout Unit...       4/8/56   \n",
       "4963  Paying the Injured Worker: Paying Efforts to I...       8/5/73   \n",
       "134           Market Place: Weis Securities Liquidation       8/9/73   \n",
       "\n",
       "     publisher                                  short_description description  \n",
       "4451      News  Arthur E. de Cordova gesturing during the sess...         NaN  \n",
       "4889      News  Following are reports of business activity in ...         NaN  \n",
       "4963      News  i In fact, as of last year the ' maximum weekl...         NaN  \n",
       "134       News  Trouble is, you are uncer- would go for less m...         NaN  "
      ]
     },
     "execution_count": 42,
     "metadata": {},
     "output_type": "execute_result"
    }
   ],
   "source": [
    "df.sample(4)"
   ]
  },
  {
   "cell_type": "code",
   "execution_count": 41,
   "metadata": {},
   "outputs": [],
   "source": [
    "df.to_csv('dados_compilados.csv', index=False)"
   ]
  }
 ],
 "metadata": {
  "kernelspec": {
   "display_name": "Python 3.9.12 ('base')",
   "language": "python",
   "name": "python3"
  },
  "language_info": {
   "codemirror_mode": {
    "name": "ipython",
    "version": 3
   },
   "file_extension": ".py",
   "mimetype": "text/x-python",
   "name": "python",
   "nbconvert_exporter": "python",
   "pygments_lexer": "ipython3",
   "version": "3.9.12"
  },
  "orig_nbformat": 4,
  "vscode": {
   "interpreter": {
    "hash": "e06ff7da33dc9620448857a90ad8b5f428f0d573d205a934d2841c8aee45ea32"
   }
  }
 },
 "nbformat": 4,
 "nbformat_minor": 2
}
