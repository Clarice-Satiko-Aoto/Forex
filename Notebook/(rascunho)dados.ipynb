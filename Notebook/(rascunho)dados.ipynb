{
 "cells": [
  {
   "cell_type": "code",
   "execution_count": 1,
   "metadata": {},
   "outputs": [],
   "source": [
    "import pandas as pd"
   ]
  },
  {
   "cell_type": "markdown",
   "metadata": {},
   "source": [
    "## HuffPost"
   ]
  },
  {
   "cell_type": "code",
   "execution_count": 3,
   "metadata": {},
   "outputs": [
    {
     "data": {
      "text/html": [
       "<div>\n",
       "<style scoped>\n",
       "    .dataframe tbody tr th:only-of-type {\n",
       "        vertical-align: middle;\n",
       "    }\n",
       "\n",
       "    .dataframe tbody tr th {\n",
       "        vertical-align: top;\n",
       "    }\n",
       "\n",
       "    .dataframe thead th {\n",
       "        text-align: right;\n",
       "    }\n",
       "</style>\n",
       "<table border=\"1\" class=\"dataframe\">\n",
       "  <thead>\n",
       "    <tr style=\"text-align: right;\">\n",
       "      <th></th>\n",
       "      <th>headline</th>\n",
       "      <th>short_description</th>\n",
       "      <th>tags</th>\n",
       "      <th>source_title</th>\n",
       "      <th>description</th>\n",
       "      <th>published_at</th>\n",
       "    </tr>\n",
       "  </thead>\n",
       "  <tbody>\n",
       "    <tr>\n",
       "      <th>0</th>\n",
       "      <td>Kidnapped By A Narcissist: The GOP's Stockholm...</td>\n",
       "      <td>It is two months since Donald Trump clinched t...</td>\n",
       "      <td>Politics</td>\n",
       "      <td>HuffPost</td>\n",
       "      <td>It is two months since Donald Trump clinched t...</td>\n",
       "      <td>07/05/16</td>\n",
       "    </tr>\n",
       "    <tr>\n",
       "      <th>1</th>\n",
       "      <td>The Refreshing Reason Google's CFO Is Leaving</td>\n",
       "      <td>NaN</td>\n",
       "      <td>Business</td>\n",
       "      <td>HuffPost</td>\n",
       "      <td>\"After nearly seven years as CFO, I will be re...</td>\n",
       "      <td>03/11/15</td>\n",
       "    </tr>\n",
       "    <tr>\n",
       "      <th>2</th>\n",
       "      <td>The 7 Types of Social Media 'Gurus' You'll Meet</td>\n",
       "      <td>This isn't to say that all social media gurus ...</td>\n",
       "      <td>Business</td>\n",
       "      <td>HuffPost</td>\n",
       "      <td>In the social media world, a disproportionatel...</td>\n",
       "      <td>10/28/15</td>\n",
       "    </tr>\n",
       "  </tbody>\n",
       "</table>\n",
       "</div>"
      ],
      "text/plain": [
       "                                            headline  \\\n",
       "0  Kidnapped By A Narcissist: The GOP's Stockholm...   \n",
       "1      The Refreshing Reason Google's CFO Is Leaving   \n",
       "2    The 7 Types of Social Media 'Gurus' You'll Meet   \n",
       "\n",
       "                                   short_description      tags source_title  \\\n",
       "0  It is two months since Donald Trump clinched t...  Politics     HuffPost   \n",
       "1                                                NaN  Business     HuffPost   \n",
       "2  This isn't to say that all social media gurus ...  Business     HuffPost   \n",
       "\n",
       "                                         description published_at  \n",
       "0  It is two months since Donald Trump clinched t...     07/05/16  \n",
       "1  \"After nearly seven years as CFO, I will be re...     03/11/15  \n",
       "2  In the social media world, a disproportionatel...     10/28/15  "
      ]
     },
     "execution_count": 3,
     "metadata": {},
     "output_type": "execute_result"
    }
   ],
   "source": [
    "link = 'C:\\Python\\Mentoria\\Forex\\Stock_Analysis\\Dataset\\Original\\huff.csv'\n",
    "huff = pd.read_csv(link)\n",
    "huff.head(3)"
   ]
  },
  {
   "cell_type": "markdown",
   "metadata": {},
   "source": [
    "## CNBC"
   ]
  },
  {
   "cell_type": "code",
   "execution_count": 4,
   "metadata": {},
   "outputs": [
    {
     "data": {
      "text/html": [
       "<div>\n",
       "<style scoped>\n",
       "    .dataframe tbody tr th:only-of-type {\n",
       "        vertical-align: middle;\n",
       "    }\n",
       "\n",
       "    .dataframe tbody tr th {\n",
       "        vertical-align: top;\n",
       "    }\n",
       "\n",
       "    .dataframe thead th {\n",
       "        text-align: right;\n",
       "    }\n",
       "</style>\n",
       "<table border=\"1\" class=\"dataframe\">\n",
       "  <thead>\n",
       "    <tr style=\"text-align: right;\">\n",
       "      <th></th>\n",
       "      <th>title</th>\n",
       "      <th>url</th>\n",
       "      <th>published_at</th>\n",
       "      <th>author</th>\n",
       "      <th>publisher</th>\n",
       "      <th>short_description</th>\n",
       "      <th>keywords</th>\n",
       "      <th>header_image</th>\n",
       "      <th>raw_description</th>\n",
       "      <th>description</th>\n",
       "      <th>scraped_at</th>\n",
       "    </tr>\n",
       "  </thead>\n",
       "  <tbody>\n",
       "    <tr>\n",
       "      <th>0</th>\n",
       "      <td>Santoli’s Wednesday market notes: Could Septem...</td>\n",
       "      <td>https://www.cnbc.com/2021/09/29/santolis-wedne...</td>\n",
       "      <td>2021-09-29T17:09:39Z</td>\n",
       "      <td>Michael Santoli</td>\n",
       "      <td>CNBC</td>\n",
       "      <td>This is the daily notebook of Mike Santoli, CN...</td>\n",
       "      <td>cnbc, Premium, Articles, Investment strategy, ...</td>\n",
       "      <td>https://image.cnbcfm.com/api/v1/image/10694960...</td>\n",
       "      <td>&lt;div class=\"group\"&gt;&lt;p&gt;&lt;em&gt;This is the daily no...</td>\n",
       "      <td>This is the daily notebook of Mike Santoli, CN...</td>\n",
       "      <td>2021-10-30T14:11:23.709372</td>\n",
       "    </tr>\n",
       "    <tr>\n",
       "      <th>1</th>\n",
       "      <td>My take on the early Brexit winners and losers</td>\n",
       "      <td>https://www.cnbc.com/2016/06/24/ian-bremmers-t...</td>\n",
       "      <td>2016-06-24T17:50:48Z</td>\n",
       "      <td>NaN</td>\n",
       "      <td>CNBC</td>\n",
       "      <td>This commentary originally ran on Facebook. Bo...</td>\n",
       "      <td>Articles, Politics, Europe News, European Cent...</td>\n",
       "      <td>https://fm.cnbc.com/applications/cnbc.com/reso...</td>\n",
       "      <td>NaN</td>\n",
       "      <td>NaN</td>\n",
       "      <td>2021-10-30T14:11:23.820139</td>\n",
       "    </tr>\n",
       "  </tbody>\n",
       "</table>\n",
       "</div>"
      ],
      "text/plain": [
       "                                               title  \\\n",
       "0  Santoli’s Wednesday market notes: Could Septem...   \n",
       "1     My take on the early Brexit winners and losers   \n",
       "\n",
       "                                                 url          published_at  \\\n",
       "0  https://www.cnbc.com/2021/09/29/santolis-wedne...  2021-09-29T17:09:39Z   \n",
       "1  https://www.cnbc.com/2016/06/24/ian-bremmers-t...  2016-06-24T17:50:48Z   \n",
       "\n",
       "            author publisher  \\\n",
       "0  Michael Santoli      CNBC   \n",
       "1              NaN      CNBC   \n",
       "\n",
       "                                   short_description  \\\n",
       "0  This is the daily notebook of Mike Santoli, CN...   \n",
       "1  This commentary originally ran on Facebook. Bo...   \n",
       "\n",
       "                                            keywords  \\\n",
       "0  cnbc, Premium, Articles, Investment strategy, ...   \n",
       "1  Articles, Politics, Europe News, European Cent...   \n",
       "\n",
       "                                        header_image  \\\n",
       "0  https://image.cnbcfm.com/api/v1/image/10694960...   \n",
       "1  https://fm.cnbc.com/applications/cnbc.com/reso...   \n",
       "\n",
       "                                     raw_description  \\\n",
       "0  <div class=\"group\"><p><em>This is the daily no...   \n",
       "1                                                NaN   \n",
       "\n",
       "                                         description  \\\n",
       "0  This is the daily notebook of Mike Santoli, CN...   \n",
       "1                                                NaN   \n",
       "\n",
       "                   scraped_at  \n",
       "0  2021-10-30T14:11:23.709372  \n",
       "1  2021-10-30T14:11:23.820139  "
      ]
     },
     "execution_count": 4,
     "metadata": {},
     "output_type": "execute_result"
    }
   ],
   "source": [
    "cnbc = pd.read_csv('C:\\Python\\Mentoria\\Forex\\Stock_Analysis\\Dataset\\Original\\cnbc_news_datase.csv')\n",
    "cnbc.head(2)"
   ]
  },
  {
   "cell_type": "code",
   "execution_count": null,
   "metadata": {},
   "outputs": [],
   "source": []
  }
 ],
 "metadata": {
  "kernelspec": {
   "display_name": "Python 3.9.12 ('base')",
   "language": "python",
   "name": "python3"
  },
  "language_info": {
   "codemirror_mode": {
    "name": "ipython",
    "version": 3
   },
   "file_extension": ".py",
   "mimetype": "text/x-python",
   "name": "python",
   "nbconvert_exporter": "python",
   "pygments_lexer": "ipython3",
   "version": "3.9.12"
  },
  "orig_nbformat": 4,
  "vscode": {
   "interpreter": {
    "hash": "e06ff7da33dc9620448857a90ad8b5f428f0d573d205a934d2841c8aee45ea32"
   }
  }
 },
 "nbformat": 4,
 "nbformat_minor": 2
}
